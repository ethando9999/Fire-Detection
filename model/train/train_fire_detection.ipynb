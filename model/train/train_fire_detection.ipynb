{
  "nbformat": 4,
  "nbformat_minor": 0,
  "metadata": {
    "colab": {
      "provenance": []
    },
    "kernelspec": {
      "name": "python3",
      "display_name": "Python 3"
    },
    "language_info": {
      "name": "python"
    }
  },
  "cells": [
    {
      "cell_type": "code",
      "execution_count": null,
      "metadata": {
        "id": "gMtpjB-xlDIL"
      },
      "outputs": [],
      "source": [
        "# download yolov11n model\n",
        "!wget https://github.com/ultralytics/assets/releases/download/v8.3.0/yolo11n.pt"
      ]
    },
    {
      "cell_type": "code",
      "source": [
        "# install ultralytics\n",
        "!pip install ultralytics"
      ],
      "metadata": {
        "id": "OAJcmvMHlLCm"
      },
      "execution_count": null,
      "outputs": []
    },
    {
      "cell_type": "code",
      "source": [
        "from ultralytics import YOLO\n",
        "\n",
        "# Load a model\n",
        "model = YOLO(\"/content/yolo11n.pt\")\n",
        "\n",
        "# Train the model\n",
        "train_results = model.train(\n",
        "    data=\"/content/Fire-Detection-Dataset/data.yaml\",  # path to dataset YAML\n",
        "    epochs=100,  # number of training epochs\n",
        "    imgsz=640,  # training image size\n",
        "    batch=100,\n",
        "    plots=True\n",
        ")"
      ],
      "metadata": {
        "id": "JmvRA99XlOv1"
      },
      "execution_count": null,
      "outputs": []
    },
    {
      "cell_type": "markdown",
      "source": [
        "# Test Model"
      ],
      "metadata": {
        "id": "fsr9grKOlfRC"
      }
    },
    {
      "cell_type": "code",
      "source": [
        "import cv2\n",
        "from google.colab.patches import cv2_imshow # Import cv2_imshow\n",
        "\n",
        "from ultralytics import YOLO\n",
        "\n",
        "# Load the YOLO model\n",
        "model = YOLO(\"/content/fire-yolo11-83epoch-4.8.pt\")\n",
        "\n",
        "# Open the video file\n",
        "video_path = \"/content/FID_01_Y_AXIS_Trim.mp4\"\n",
        "cap = cv2.VideoCapture(video_path)\n",
        "\n",
        "# Loop through the video frames\n",
        "while cap.isOpened():\n",
        "    # Read a frame from the video\n",
        "    success, frame = cap.read()\n",
        "\n",
        "    if success:\n",
        "        # Run YOLO inference on the frame\n",
        "        results = model(frame)\n",
        "\n",
        "        # Visualize the results on the frame\n",
        "        annotated_frame = results[0].plot()\n",
        "\n",
        "        # Display the annotated frame using cv2_imshow\n",
        "        cv2_imshow(annotated_frame) # Use cv2_imshow instead of cv2.imshow\n",
        "\n",
        "        # Break the loop if 'q' is pressed\n",
        "        if cv2.waitKey(1) & 0xFF == ord(\"q\"):\n",
        "            break\n",
        "    else:\n",
        "        # Break the loop if the end of the video is reached\n",
        "        break\n",
        "\n",
        "# Release the video capture object and close the display window\n",
        "cap.release()\n",
        "cv2.destroyAllWindows()"
      ],
      "metadata": {
        "id": "EwgF7A8HlenK"
      },
      "execution_count": null,
      "outputs": []
    },
    {
      "cell_type": "markdown",
      "source": [
        "# Visualation result"
      ],
      "metadata": {
        "id": "qtkuh8kAll9b"
      }
    },
    {
      "cell_type": "code",
      "source": [
        "import pandas as pd\n",
        "\n",
        "# Load the CSV file to inspect its contents\n",
        "file_path = '/content/results.csv'\n",
        "df = pd.read_csv(file_path)\n",
        "\n",
        "# Display the first few rows of the dataframe to understand its structure\n",
        "df.head()"
      ],
      "metadata": {
        "id": "4JCMOva1lm0D"
      },
      "execution_count": null,
      "outputs": []
    },
    {
      "cell_type": "code",
      "source": [
        "import matplotlib.pyplot as plt\n",
        "\n",
        "# Set up the plot for training and validation losses\n",
        "plt.figure(figsize=(12, 8))\n",
        "\n",
        "# Plotting the training losses\n",
        "plt.plot(df['epoch'], df['train/box_loss'], label='Train Box Loss', color='b')\n",
        "plt.plot(df['epoch'], df['train/cls_loss'], label='Train Class Loss', color='g')\n",
        "plt.plot(df['epoch'], df['train/dfl_loss'], label='Train DFL Loss', color='r')\n",
        "\n",
        "# Plotting the validation losses\n",
        "plt.plot(df['epoch'], df['val/box_loss'], label='Val Box Loss', color='b', linestyle='--')\n",
        "plt.plot(df['epoch'], df['val/cls_loss'], label='Val Class Loss', color='g', linestyle='--')\n",
        "plt.plot(df['epoch'], df['val/dfl_loss'], label='Val DFL Loss', color='r', linestyle='--')\n",
        "\n",
        "# Adding titles and labels\n",
        "plt.title('Training and Validation Losses Over Epochs')\n",
        "plt.xlabel('Epoch')\n",
        "plt.ylabel('Loss')\n",
        "plt.legend()\n",
        "plt.grid(True)\n",
        "\n",
        "# Show the plot\n",
        "plt.show()"
      ],
      "metadata": {
        "id": "hsruS2mslqRY"
      },
      "execution_count": null,
      "outputs": []
    },
    {
      "cell_type": "code",
      "source": [
        "# Set up the plot for precision, recall, and mAP metrics\n",
        "plt.figure(figsize=(12, 8))\n",
        "\n",
        "# Plotting precision, recall, mAP@50, and mAP@50-95\n",
        "plt.plot(df['epoch'], df['metrics/precision(B)'], label='Precision (B)', color='b')\n",
        "plt.plot(df['epoch'], df['metrics/recall(B)'], label='Recall (B)', color='g')\n",
        "plt.plot(df['epoch'], df['metrics/mAP50(B)'], label='mAP@50 (B)', color='r')\n",
        "plt.plot(df['epoch'], df['metrics/mAP50-95(B)'], label='mAP@50-95 (B)', color='m')\n",
        "\n",
        "# Adding titles and labels\n",
        "plt.title('Precision, Recall, and mAP over Epochs')\n",
        "plt.xlabel('Epoch')\n",
        "plt.ylabel('Metric Value')\n",
        "plt.legend()\n",
        "plt.grid(True)\n",
        "\n",
        "# Show the plot\n",
        "plt.show()"
      ],
      "metadata": {
        "id": "whFv4R_clsUS"
      },
      "execution_count": null,
      "outputs": []
    },
    {
      "cell_type": "code",
      "source": [
        "# Set up the plot for learning rate changes\n",
        "plt.figure(figsize=(12, 8))\n",
        "\n",
        "# Plotting learning rates for different parameter groups\n",
        "plt.plot(df['epoch'], df['lr/pg0'], label='Learning Rate pg0', color='b')\n",
        "plt.plot(df['epoch'], df['lr/pg1'], label='Learning Rate pg1', color='g')\n",
        "plt.plot(df['epoch'], df['lr/pg2'], label='Learning Rate pg2', color='r')\n",
        "\n",
        "# Adding titles and labels\n",
        "plt.title('Learning Rate Changes Over Epochs')\n",
        "plt.xlabel('Epoch')\n",
        "plt.ylabel('Learning Rate')\n",
        "plt.legend()\n",
        "plt.grid(True)\n",
        "\n",
        "# Show the plot\n",
        "plt.show()"
      ],
      "metadata": {
        "id": "dzyJjGFvlucX"
      },
      "execution_count": null,
      "outputs": []
    }
  ]
}