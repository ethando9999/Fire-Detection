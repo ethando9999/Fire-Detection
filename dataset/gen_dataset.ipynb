{
  "nbformat": 4,
  "nbformat_minor": 0,
  "metadata": {
    "colab": {
      "provenance": []
    },
    "kernelspec": {
      "name": "python3",
      "display_name": "Python 3"
    },
    "language_info": {
      "name": "python"
    }
  },
  "cells": [
    {
      "cell_type": "code",
      "execution_count": null,
      "metadata": {
        "id": "5vTLrQW2iSsD"
      },
      "outputs": [],
      "source": [
        "!pip install roboflow\n",
        "\n",
        "from roboflow import Roboflow\n",
        "rf = Roboflow(api_key=\"MDli1WLEKr69BUPLxq9r\")\n",
        "project = rf.workspace(\"sih-hisav\").project(\"indoor-fire-detection\")\n",
        "version = project.version(1)\n",
        "dataset = version.download(\"yolov11\")"
      ]
    },
    {
      "cell_type": "code",
      "source": [
        "!pip install roboflow\n",
        "\n",
        "from roboflow import Roboflow\n",
        "rf = Roboflow(api_key=\"MDli1WLEKr69BUPLxq9r\")\n",
        "project = rf.workspace(\"dothanhchien\").project(\"fire-k6xeb-w7kq7\")\n",
        "version = project.version(1)\n",
        "dataset = version.download(\"yolov11\")"
      ],
      "metadata": {
        "id": "qk-ciB2Dijhu"
      },
      "execution_count": null,
      "outputs": []
    },
    {
      "cell_type": "code",
      "source": [
        "!pip install roboflow\n",
        "\n",
        "from roboflow import Roboflow\n",
        "rf = Roboflow(api_key=\"ZROVMCEVuHmAKuRC1ifK\")\n",
        "project = rf.workspace(\"chiendo\").project(\"fire-detection-sejra-riaig\")\n",
        "version = project.version(1)\n",
        "dataset = version.download(\"yolov11\")"
      ],
      "metadata": {
        "id": "f_KojT8Kindk"
      },
      "execution_count": null,
      "outputs": []
    },
    {
      "cell_type": "code",
      "source": [
        "import os\n",
        "import shutil\n",
        "\n",
        "# Hàm để copy file từ src_folder sang dest_folder và thêm tiền tố vào tên file\n",
        "def copy_files_with_prefix(src_folder, dest_folder, prefix):\n",
        "    if not os.path.exists(dest_folder):\n",
        "        os.makedirs(dest_folder)\n",
        "    for filename in os.listdir(src_folder):\n",
        "        src_file = os.path.join(src_folder, filename)\n",
        "        dest_file = os.path.join(dest_folder, prefix + filename)\n",
        "        shutil.copy(src_file, dest_file)\n",
        "\n",
        "# Đường dẫn đến các folder dataset gốc\n",
        "datasets = {\n",
        "    'Fire-1': '/content/Fire-1',\n",
        "    'Fire-Detection-1': '/content/Fire-Detection-1',\n",
        "    'Indoor-Fire-Detection-1': '/content/Indoor-Fire-Detection-1'\n",
        "}\n",
        "\n",
        "# Đường dẫn đến folder dataset hợp nhất\n",
        "merged_dataset = '/content/Fire-Detection-Dataset'\n",
        "\n",
        "# Hợp nhất thư mục train\n",
        "for dataset_name, dataset_path in datasets.items():\n",
        "    train_images_src = os.path.join(dataset_path, 'train', 'images')\n",
        "    train_labels_src = os.path.join(dataset_path, 'train', 'labels')\n",
        "\n",
        "    train_images_dest = os.path.join(merged_dataset, 'train', 'images')\n",
        "    train_labels_dest = os.path.join(merged_dataset, 'train', 'labels')\n",
        "\n",
        "    copy_files_with_prefix(train_images_src, train_images_dest, f'{dataset_name}_')\n",
        "    copy_files_with_prefix(train_labels_src, train_labels_dest, f'{dataset_name}_')\n",
        "\n",
        "# Hợp nhất thư mục valid\n",
        "for dataset_name, dataset_path in datasets.items():\n",
        "    valid_images_src = os.path.join(dataset_path, 'valid', 'images')\n",
        "    valid_labels_src = os.path.join(dataset_path, 'valid', 'labels')\n",
        "\n",
        "    valid_images_dest = os.path.join(merged_dataset, 'valid', 'images')\n",
        "    valid_labels_dest = os.path.join(merged_dataset, 'valid', 'labels')\n",
        "\n",
        "    if os.path.exists(valid_images_src):\n",
        "        copy_files_with_prefix(valid_images_src, valid_images_dest, f'{dataset_name}_')\n",
        "    if os.path.exists(valid_labels_src):\n",
        "        copy_files_with_prefix(valid_labels_src, valid_labels_dest, f'{dataset_name}_')\n",
        "\n",
        "# Hợp nhất thư mục test\n",
        "for dataset_name, dataset_path in datasets.items():\n",
        "    test_images_src = os.path.join(dataset_path, 'test', 'images')\n",
        "    test_labels_src = os.path.join(dataset_path, 'test', 'labels')\n",
        "\n",
        "    test_images_dest = os.path.join(merged_dataset, 'test', 'images')\n",
        "    test_labels_dest = os.path.join(merged_dataset, 'test', 'labels')\n",
        "\n",
        "    if os.path.exists(test_images_src):\n",
        "        copy_files_with_prefix(test_images_src, test_images_dest, f'{dataset_name}_')\n",
        "    if os.path.exists(test_labels_src):\n",
        "        copy_files_with_prefix(test_labels_src, test_labels_dest, f'{dataset_name}_')\n",
        "\n",
        "print(\"Dataset merge completed successfully!\")"
      ],
      "metadata": {
        "id": "h5-vJ-pVixjG"
      },
      "execution_count": null,
      "outputs": []
    },
    {
      "cell_type": "code",
      "source": [
        "# Đường dẫn đến thư mục nơi sẽ tạo file data.yaml\n",
        "data_yaml_path = '/content/Fire-Detection-Dataset/data.yaml'\n",
        "\n",
        "# Nội dung của file data.yaml\n",
        "yaml_content = \"\"\"train: /content/Fire-Detection-Dataset/train/images\n",
        "val: /content/Fire-Detection-Dataset/valid/images\n",
        "test: /content/Fire-Detection-Dataset/test/images\n",
        "\n",
        "nc: 1\n",
        "names: ['fire']\n",
        "\"\"\"\n",
        "\n",
        "# Ghi nội dung vào file data.yaml\n",
        "with open(data_yaml_path, 'w') as file:\n",
        "    file.write(yaml_content)\n",
        "\n",
        "print(f\"'data.yaml' has been created at: {data_yaml_path}\")"
      ],
      "metadata": {
        "id": "cjvKGVQ_i2vd"
      },
      "execution_count": null,
      "outputs": []
    },
    {
      "cell_type": "code",
      "source": [
        "import os\n",
        "import glob\n",
        "\n",
        "# Đường dẫn đến thư mục chứa ảnh\n",
        "image_folder = \"/content/Fire-Detection-Dataset/train/images\"\n",
        "\n",
        "# Đếm ảnh có đuôi .jpg hoặc .png\n",
        "img_list_jpg = glob.glob(os.path.join(image_folder, \"*.jpg\"))\n",
        "img_list_png = glob.glob(os.path.join(image_folder, \"*.png\"))\n",
        "\n",
        "# Tính tổng số ảnh\n",
        "total_images = len(img_list_jpg) + len(img_list_png)\n",
        "print(f\"Total number of images (.jpg or .png): {total_images}\")"
      ],
      "metadata": {
        "id": "zEQbD-o9i4w4"
      },
      "execution_count": null,
      "outputs": []
    }
  ]
}